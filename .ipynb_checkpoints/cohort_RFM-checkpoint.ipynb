{
 "cells": [
  {
   "cell_type": "markdown",
   "id": "338ae0a5-0803-4c86-83a5-d42f5c864cbe",
   "metadata": {},
   "source": [
    "# 필요 라이브러리 import"
   ]
  },
  {
   "cell_type": "code",
   "execution_count": 4,
   "id": "3e1bab83-d135-490a-b46a-678e73e83d51",
   "metadata": {},
   "outputs": [
    {
     "data": {
      "text/plain": [
       "'C:\\\\Users\\\\meo47\\\\OneDrive\\\\프로젝트\\\\공모전_데이콘_RFM_이커머스\\\\cohort_RFM'"
      ]
     },
     "execution_count": 4,
     "metadata": {},
     "output_type": "execute_result"
    }
   ],
   "source": [
    "import pandas as pd\n",
    "import numpy as np\n",
    "import matplotlib.pyplot as plt\n",
    "plt.rc('font', family = 'Malgun Gothic')\n",
    "plt.rcParams['font.family']\n",
    "import seaborn as sns\n",
    "import warnings\n",
    "warnings.filterwarnings(action='ignore')\n",
    "import os\n",
    "os.getcwd()"
   ]
  },
  {
   "cell_type": "code",
   "execution_count": 7,
   "id": "20785048-290e-49e3-91ac-897e42096a1b",
   "metadata": {},
   "outputs": [
    {
     "data": {
      "text/plain": [
       "['Customer_info.csv',\n",
       " 'Discount_info.csv',\n",
       " 'Marketing_info.csv',\n",
       " 'Onlinesales_info.csv',\n",
       " 'Tax_info.csv']"
      ]
     },
     "execution_count": 7,
     "metadata": {},
     "output_type": "execute_result"
    }
   ],
   "source": [
    "os.listdir('./origin')"
   ]
  },
  {
   "cell_type": "markdown",
   "id": "94d1c308-9038-40a0-9dc7-415d57e0291a",
   "metadata": {},
   "source": [
    "# 클래스 정의"
   ]
  },
  {
   "cell_type": "code",
   "execution_count": 8,
   "id": "cd4e9d08-8363-44b5-8123-464606e2652b",
   "metadata": {},
   "outputs": [],
   "source": [
    "class analysis:\n",
    "    def __init__(self, csv):\n",
    "        self.df = csv"
   ]
  },
  {
   "cell_type": "markdown",
   "id": "b225df7a-9752-4cc5-8e8b-9d496e60178b",
   "metadata": {},
   "source": [
    "# 데이터 전처리"
   ]
  },
  {
   "cell_type": "code",
   "execution_count": null,
   "id": "01db7b60-4142-410d-b949-f9b130b9a346",
   "metadata": {},
   "outputs": [],
   "source": [
    "class "
   ]
  }
 ],
 "metadata": {
  "kernelspec": {
   "display_name": "python_38",
   "language": "python",
   "name": "python_38"
  },
  "language_info": {
   "codemirror_mode": {
    "name": "ipython",
    "version": 3
   },
   "file_extension": ".py",
   "mimetype": "text/x-python",
   "name": "python",
   "nbconvert_exporter": "python",
   "pygments_lexer": "ipython3",
   "version": "3.8.18"
  }
 },
 "nbformat": 4,
 "nbformat_minor": 5
}
